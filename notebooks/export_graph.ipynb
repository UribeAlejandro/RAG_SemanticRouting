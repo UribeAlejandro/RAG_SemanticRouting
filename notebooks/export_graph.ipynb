{
 "cells": [
  {
   "metadata": {},
   "cell_type": "markdown",
   "source": "# Draw & Export Graph",
   "id": "67dae7c64c00b90d"
  },
  {
   "metadata": {},
   "cell_type": "code",
   "source": "#!pip install pyppeteer",
   "id": "initial_id",
   "outputs": [],
   "execution_count": null
  },
  {
   "metadata": {},
   "cell_type": "code",
   "source": [
    "from langchain_core.runnables.graph import CurveStyle, NodeColors, MermaidDrawMethod\n",
    "from src.graph.workflow import create_workflow\n",
    "from IPython.display import Image"
   ],
   "id": "51606da6c9cda5eb",
   "outputs": [],
   "execution_count": null
  },
  {
   "metadata": {},
   "cell_type": "code",
   "source": "app = create_workflow()",
   "id": "24d753883ae95bd5",
   "outputs": [],
   "execution_count": null
  },
  {
   "metadata": {},
   "cell_type": "code",
   "source": [
    "Image(app.get_graph().draw_mermaid_png(\n",
    "    curve_style=CurveStyle.LINEAR,\n",
    "    node_colors=NodeColors(start=\"#ffdfba\", end=\"#baffc9\", other=\"#fad7de\"),\n",
    "    wrap_label_n_words=9,\n",
    "    output_file_path='../img/graph.png',\n",
    "    draw_method=MermaidDrawMethod.PYPPETEER,\n",
    "    background_color=\"white\",\n",
    "    padding=10\n",
    "    )\n",
    ")"
   ],
   "id": "95b68e637afb32ea",
   "outputs": [],
   "execution_count": null
  },
  {
   "metadata": {},
   "cell_type": "code",
   "source": "",
   "id": "7d27d2fe31f82ec",
   "outputs": [],
   "execution_count": null
  }
 ],
 "metadata": {
  "kernelspec": {
   "display_name": "Python 3",
   "language": "python",
   "name": "python3"
  },
  "language_info": {
   "codemirror_mode": {
    "name": "ipython",
    "version": 2
   },
   "file_extension": ".py",
   "mimetype": "text/x-python",
   "name": "python",
   "nbconvert_exporter": "python",
   "pygments_lexer": "ipython2",
   "version": "2.7.6"
  }
 },
 "nbformat": 4,
 "nbformat_minor": 5
}
